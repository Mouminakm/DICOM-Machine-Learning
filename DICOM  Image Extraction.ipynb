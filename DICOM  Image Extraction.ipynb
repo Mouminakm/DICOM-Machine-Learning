{
 "cells": [
  {
   "cell_type": "code",
   "execution_count": null,
   "metadata": {},
   "outputs": [],
   "source": [
    "import numpy as np\n",
    "import matplotlib\n",
    "import pydicom\n",
    "from pydicom import dcmread\n",
    "from pydicom.data import get_testdata_file\n",
    "import os\n",
    "from pathlib import Path\n",
    "%matplotlib inline"
   ]
  },
  {
   "cell_type": "code",
   "execution_count": null,
   "metadata": {},
   "outputs": [],
   "source": [
    "directory='6'\n",
    "# fetch the path to the test data\n",
    "path = get_testdata_file('{}\\\\DICOMDIR'.format(directory))\n",
    "ds = dcmread('{}/DICOMDIR'.format(directory))\n",
    "root_dir = Path(ds.filename).resolve().parent\n",
    "print(f'Root directory: {root_dir}\\n')"
   ]
  },
  {
   "cell_type": "code",
   "execution_count": null,
   "metadata": {},
   "outputs": [],
   "source": [
    "#To list the patients in the record \n",
    "ds.patient_records\n",
    "\n",
    "# to select the only patient in this record\n",
    "for patient in ds.patient_records:\n",
    "    patient\n",
    "\n",
    "# Find all the STUDY records for the patient\n",
    "studies = [ii for ii in patient.children if ii.DirectoryRecordType == \"STUDY\"]\n",
    "\n",
    "# Select the only study in this patient record\n",
    "for study in studies:\n",
    "    study\n",
    "\n",
    "# Find all the SERIES records in the study\n",
    "all_series = [ii for ii in study.children if ii.DirectoryRecordType == \"SERIES\"]"
   ]
  },
  {
   "cell_type": "code",
   "execution_count": null,
   "metadata": {},
   "outputs": [],
   "source": [
    "all_series"
   ]
  },
  {
   "cell_type": "code",
   "execution_count": null,
   "metadata": {},
   "outputs": [],
   "source": [
    "#Choose the target series \n",
    "selected_series=all_series[7] # 7 is the index of the target series in the all_series list"
   ]
  },
  {
   "cell_type": "code",
   "execution_count": null,
   "metadata": {},
   "outputs": [],
   "source": [
    "\n",
    "# Find all the IMAGE records in the series\n",
    "images = [ii for ii in selected_series.children if ii.DirectoryRecordType == \"IMAGE\"]\n",
    "\n",
    "plural = ('', 's')[len(images) > 1]\n",
    "\n",
    "descr = getattr(selected_series, \"SeriesDescription\", \"(no value available)\")\n",
    "\n",
    "print(f\"{'  ' * 2}SERIES: SeriesNumber={selected_series.SeriesNumber}, \"\n",
    "    f\"Modality={selected_series.Modality}, SeriesDescription={descr} - \"\n",
    "    f\"{len(images)} SOP Instance{plural}\")\n",
    "# Get the absolute file path to each instance\n",
    "#   Each IMAGE contains a relative file path to the root directory\n",
    "elems = [ii[\"ReferencedFileID\"] for ii in images]\n",
    "# Make sure the relative file path is always a list of str\n",
    "paths = [[ee.value] if ee.VM == 1 else ee.value for ee in elems]\n",
    "paths = [Path(*p) for p in paths]\n",
    "\n",
    "# List the instance file paths\n",
    "for p in paths:\n",
    "    print(f\"{'  ' * 3}IMAGE: Path={os.fspath(p)}\")"
   ]
  },
  {
   "cell_type": "code",
   "execution_count": null,
   "metadata": {},
   "outputs": [],
   "source": [
    "\n",
    "# Get the absolute file path to each instance\n",
    "#   Each IMAGE contains a relative file path to the root directory\n",
    "elems = [ii[\"ReferencedFileID\"] for ii in images]\n",
    "# Make sure the relative file path is always a list of str\n",
    "paths = [[ee.value] if ee.VM == 1 else ee.value for ee in elems]\n",
    "paths = [Path(*p) for p in paths]\n",
    "\n",
    "# List the instance file paths\n",
    "for p in paths:\n",
    "    print(f\"{'  ' * 3}IMAGE: Path={os.fspath(p)}\")\n",
    "\n",
    "    # Optionally read the corresponding SOP Instance\n",
    "    # instance = dcmread(Path(root_dir) / p)\n",
    "    # print(instance.PatientName)"
   ]
  },
  {
   "cell_type": "code",
   "execution_count": null,
   "metadata": {},
   "outputs": [],
   "source": [
    "str_path=[]\n",
    "for path in paths:\n",
    "    str_path.append(str(path))"
   ]
  },
  {
   "cell_type": "code",
   "execution_count": null,
   "metadata": {},
   "outputs": [],
   "source": [
    "complete_path=[]\n",
    "for path in str_path:\n",
    "    complete_path.append(\"{}\\\\\".format(directory)+path)"
   ]
  },
  {
   "cell_type": "code",
   "execution_count": null,
   "metadata": {},
   "outputs": [],
   "source": [
    "complete_path"
   ]
  },
  {
   "cell_type": "code",
   "execution_count": null,
   "metadata": {},
   "outputs": [],
   "source": [
    "# Get ref file\n",
    "RefDs = pydicom.filereader.dcmread(str(complete_path[0]))\n",
    "\n",
    "# Load dimensions based on the number of rows, columns, and slices (along the Z axis)\n",
    "ConstPixelDims = (int(RefDs.Rows), int(RefDs.Columns), len(complete_path))\n",
    "\n",
    "# Load spacing values (in mm)\n",
    "ConstPixelSpacing = (float(RefDs.PixelSpacing[0]), float(RefDs.PixelSpacing[1]), float(RefDs.SliceThickness))"
   ]
  },
  {
   "cell_type": "code",
   "execution_count": null,
   "metadata": {},
   "outputs": [],
   "source": [
    "# The array is sized based on 'ConstPixelDims'\n",
    "ArrayDicom = np.zeros(ConstPixelDims , dtype=RefDs.pixel_array.dtype)\n",
    "\n",
    "# loop through all the DICOM files\n",
    "for filenameDCM in complete_path:\n",
    "    # read the file\n",
    "    ds = pydicom.read_file((filenameDCM))\n",
    "    # store the raw image data\n",
    "    ArrayDicom[:, :, complete_path.index(filenameDCM)] = ds.pixel_array"
   ]
  },
  {
   "cell_type": "code",
   "execution_count": null,
   "metadata": {},
   "outputs": [],
   "source": [
    "for s in range(ArrayDicom.shape[2]):\n",
    "    matplotlib.pyplot.figure(dpi=250)\n",
    "    matplotlib.pyplot.axes().set_aspect('equal', 'datalim')\n",
    "    matplotlib.pyplot.set_cmap(matplotlib.pyplot.gray())\n",
    "    matplotlib.pyplot.pcolormesh(np.flipud(ArrayDicom[:, :, s]))\n",
    "    matplotlib.pyplot.show()\n",
    "    print(s)"
   ]
  }
 ],
 "metadata": {
  "kernelspec": {
   "display_name": "tf",
   "language": "python",
   "name": "tf"
  },
  "language_info": {
   "codemirror_mode": {
    "name": "ipython",
    "version": 3
   },
   "file_extension": ".py",
   "mimetype": "text/x-python",
   "name": "python",
   "nbconvert_exporter": "python",
   "pygments_lexer": "ipython3",
   "version": "3.7.9"
  }
 },
 "nbformat": 4,
 "nbformat_minor": 4
}
